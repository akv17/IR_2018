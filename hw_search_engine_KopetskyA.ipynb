{
 "cells": [
  {
   "cell_type": "markdown",
   "metadata": {},
   "source": [
    "## ДЗ по поиску\n",
    "\n",
    "Привет! Вам надо реализивать поисковик на базе вопросов-ответов с сайта [pravoved.ru](https://pravoved.ru/questions-archive/).        \n",
    "Поиск должен работать на трех технологиях:       \n",
    "1. обратном индексе     \n",
    "2. word2vec         \n",
    "3. doc2vec      \n",
    "\n",
    "Вы должны понять, какой метод и при каких условиях эксперимента на этом корпусе работает лучше.          \n",
    "Для измерения качества поиска найдите точность (accuracy) выпадания правильного ответа на конкретный вопрос (в этой базе у каждого вопроса есть только один правильный ответ). Точность нужно измерить для всей базы.    \n",
    "При этом давайте считать, что выпал правильный ответ, если он попал в **топ-5** поисковой выдачи.\n",
    "\n",
    "> Сделайте ваш поиск максимально качественным, чтобы значение точности стремилось к 1.     \n",
    "Для этого можно поэкспериментировать со следующим:       \n",
    "- модель word2vec (можно брать любую из опен сорса или обучить свою)\n",
    "- способ получения вектора документа через word2vec: простое среднее арифметическое или взвешивать каждый вектор в соответствии с его tf-idf      \n",
    "- количество эпох у doc2vec (начинайте от 100)\n",
    "- предобработка документов для обучения doc2vec (удалять / не удалять стоп-слова)\n",
    "- блендинг методов поиска: соединить результаты обратного индекса и w2v, или (что проще) w2v и d2v\n",
    "\n",
    "На это задание отведем 10 дней. Дэдлайн сдачи до полуночи 12.10."
   ]
  },
  {
   "cell_type": "code",
   "execution_count": 1,
   "metadata": {
    "collapsed": true
   },
   "outputs": [],
   "source": [
    "import pickle\n",
    "\n",
    "with open('qa_corpus.pkl', 'rb') as file:\n",
    "    qa_corpus_paired = pickle.load(file)"
   ]
  },
  {
   "cell_type": "code",
   "execution_count": 2,
   "metadata": {
    "collapsed": true
   },
   "outputs": [],
   "source": [
    "qa_corpus = [doc for pair in qa_corpus_paired for doc in pair]"
   ]
  },
  {
   "cell_type": "code",
   "execution_count": 3,
   "metadata": {
    "collapsed": true
   },
   "outputs": [],
   "source": [
    "QUERIES = qa_corpus[0:2768:2]\n",
    "RESPONSES = qa_corpus[1:2768:2]"
   ]
  },
  {
   "cell_type": "markdown",
   "metadata": {},
   "source": [
    "Всего в корпусе 1384 пары вопрос-ответ"
   ]
  },
  {
   "cell_type": "code",
   "execution_count": 6,
   "metadata": {},
   "outputs": [
    {
     "data": {
      "text/plain": [
       "1384"
      ]
     },
     "execution_count": 6,
     "metadata": {},
     "output_type": "execute_result"
    }
   ],
   "source": [
    "len(qa_corpus)"
   ]
  },
  {
   "cell_type": "markdown",
   "metadata": {},
   "source": [
    "Первый элемент блока это вопрос, второй - ответ на него"
   ]
  },
  {
   "cell_type": "code",
   "execution_count": 4,
   "metadata": {},
   "outputs": [
    {
     "data": {
      "text/plain": [
       "['\\nДобрый день.Мой сын гражданин Украины (ДНР),имеет вид на жительство в Р.Ф., кот.получил проживая с 2014 г. в Нижегородской области.В 2017г. переехал на постоянное место жительство в г.Ростов.Официально трудоустроился на одно из промышл.предприятий г.Ростова.Оформил временную регистрацию в Ростове.В УФМС предупредили,что по истечении 90 дней он должен либо постоянно прописаться либо покинуть территорию России.Прошу проконсультировать как быть дальше.(Вернуться домой в Донецк,но здесь идет война,работы нет.В Ростове он работает по специальности.Он инженер машиностроитель.)Временная прописка до 15 марта.  Если он сможет приобрести какую либо недвижимость,как долго будет решаться вопрос о его постоянной прописке в Ростове.Как в этом случае будет решаться вопрос с видом на жительство в Ростове? Не получится ли ,что приобретя квартиру,он не успеет в ней прописаться до окончании срока временной регистрации. С уважением Людмила Евгеньевна.\\n',\n",
       " 'Добрый вечер!Из Вашего вопроса вообще ничего не ясно.Ваш сын по ВНЖ в Нижегородской обл. сделал временную\\xa0 на 90 дней в Ростове? Так? Или в чем заключается вопрос?С ув., АлёнаМиграционный юристРостов-на-Дону ']"
      ]
     },
     "execution_count": 4,
     "metadata": {},
     "output_type": "execute_result"
    }
   ],
   "source": [
    "qa_corpus[0]"
   ]
  },
  {
   "cell_type": "code",
   "execution_count": null,
   "metadata": {
    "collapsed": true
   },
   "outputs": [],
   "source": []
  },
  {
   "cell_type": "code",
   "execution_count": null,
   "metadata": {
    "collapsed": true
   },
   "outputs": [],
   "source": []
  },
  {
   "cell_type": "code",
   "execution_count": 4,
   "metadata": {},
   "outputs": [
    {
     "name": "stderr",
     "output_type": "stream",
     "text": [
      "C:\\Users\\PC\\Anaconda3\\lib\\site-packages\\gensim\\utils.py:1212: UserWarning: detected Windows; aliasing chunkize to chunkize_serial\n",
      "  warnings.warn(\"detected Windows; aliasing chunkize to chunkize_serial\")\n"
     ]
    }
   ],
   "source": [
    "import os\n",
    "import re\n",
    "import numpy as np\n",
    "from collections import defaultdict\n",
    "\n",
    "from nltk.tokenize import sent_tokenize, word_tokenize\n",
    "from gensim.models import Word2Vec, Doc2Vec"
   ]
  },
  {
   "cell_type": "markdown",
   "metadata": {},
   "source": [
    "Для эффективной лемматизации я решил написать небольшое собственное API для исполняемого `MyStem.exe`, потому как доступный под windows модуль `pymystem3` работает невероятно не эффективно\n",
    "\n",
    "Кратко:\n",
    "- `MyStem.run(documents, flags, [, parse_mystem_output, pos_tags])`: исполняет `MyStem.exe` с заданными флагами `flags` для коллекции `documents`\n",
    "    - `documents: List[<str>]`: коллекция документов\n",
    "    - `flags: <str>`: флаги\n",
    "    - `parse_mystem_output: <bool>`: привести исполненную выдачу к исходному виду коллекции (адекватный результат на наборе флагов, отличных от объявленных в коде, не гарантируется, но возможен при написании соответствующего парсера)\n",
    "    - `pos_tags: <bool>`: включить POS разметку"
   ]
  },
  {
   "cell_type": "code",
   "execution_count": 5,
   "metadata": {
    "collapsed": true
   },
   "outputs": [],
   "source": [
    "class MyStem:\n",
    "    \n",
    "    def __init__(self, exec_path=None):\n",
    "        \"\"\"\n",
    "        exec_path: path to mystem executable\n",
    "        \"\"\"\n",
    "        self.EXEC_PATH = '' if exec_path is None else exec_path\n",
    "    \n",
    "        self.TMP_IN = 'tmp_in'\n",
    "        self.TMP_OUT = 'tmp_out'\n",
    "        \n",
    "        self.SEP = '::SEP::'\n",
    "        \n",
    "    def __export_to_tmp(self, documents):\n",
    "        with open(self.TMP_IN, 'w', encoding='utf-8') as tmp:\n",
    "            tmp.write(self.SEP.join(documents))\n",
    "            \n",
    "    def __read_tmp(self):\n",
    "        with open(self.TMP_OUT, 'r', encoding='utf-8') as tmp:\n",
    "            return tmp.read()\n",
    "        \n",
    "    def __run_exec(self, flags):\n",
    "        os.system('mystem %s %s %s' % (flags, self.TMP_IN, self.TMP_OUT))\n",
    "    \n",
    "    def __parser(self, raw_output, pos_tags):\n",
    "        def parse_word_token(token):\n",
    "            try:\n",
    "                lemma, pos = re.split('\\?=|=|\\?\\?', token)[:2]\n",
    "            except ValueError:\n",
    "                lemma = re.split('\\?=|=|\\?\\?', token)[0]\n",
    "                pos = ''\n",
    "            \n",
    "            lemma = re.sub('[\\W]|_|u', '', lemma)\n",
    "            \n",
    "            if pos:\n",
    "                pos = pos.split(',')[0]\n",
    "            else:\n",
    "                pos = 'UNKN'\n",
    "\n",
    "            if pos_tags:\n",
    "                return '%s_%s' % (lemma, pos)\n",
    "\n",
    "            else:\n",
    "                return lemma\n",
    "\n",
    "        def parse_non_word_token(token):\n",
    "            token = re.sub('::', '', token)\n",
    "            token = re.sub('_', '', token)\n",
    "            return token\n",
    "\n",
    "        parsed = list()\n",
    "        \n",
    "        for doc in raw_output.split('SEP??'):\n",
    "            doc_parsed = list()\n",
    "            \n",
    "            for token in re.split('\\\\\\\\n|\\\\\\\\r|\\\\n|\\\\r', doc):\n",
    "                if re.search('[A-Za-zА-ЯаяёЁ0-9]', token) is not None:\n",
    "                    doc_parsed.append(parse_word_token(token))\n",
    "                \n",
    "                else:\n",
    "                    doc_parsed.append(parse_non_word_token(token))\n",
    "            \n",
    "            parsed.append(' '.join(doc_parsed).strip())\n",
    "        \n",
    "        return parsed\n",
    "    \n",
    "    def __standartize_flags(self, flags):\n",
    "        flags = re.sub('[\\-ds]', '', flags)\n",
    "        return ''.join(sorted(flags))\n",
    "    \n",
    "    def run(self, documents, flags='-idlnc', parse_mystem_output=True, pos_tags=False):\n",
    "        self.__export_to_tmp(documents)\n",
    "        self.__run_exec(flags)\n",
    "        \n",
    "        if parse_mystem_output:\n",
    "            return self.__parser(self.__read_tmp(), pos_tags)\n",
    "        \n",
    "        else:\n",
    "            return self.__read_tmp()\n",
    "        "
   ]
  },
  {
   "cell_type": "code",
   "execution_count": 6,
   "metadata": {
    "collapsed": true
   },
   "outputs": [],
   "source": [
    "mystem = MyStem()"
   ]
  },
  {
   "cell_type": "markdown",
   "metadata": {},
   "source": [
    "Лемматизация корпуса"
   ]
  },
  {
   "cell_type": "code",
   "execution_count": 7,
   "metadata": {},
   "outputs": [
    {
     "name": "stdout",
     "output_type": "stream",
     "text": [
      "Wall time: 8.51 s\n"
     ]
    }
   ],
   "source": [
    "%%time\n",
    "qa_corpus_lem = mystem.run(qa_corpus)               "
   ]
  },
  {
   "cell_type": "code",
   "execution_count": 8,
   "metadata": {
    "collapsed": true
   },
   "outputs": [],
   "source": [
    "QUERIES_LEM = qa_corpus_lem[0:2768:2]\n",
    "RESPONSES_LEM = qa_corpus_lem[1:2768:2]"
   ]
  },
  {
   "cell_type": "code",
   "execution_count": null,
   "metadata": {
    "collapsed": true
   },
   "outputs": [],
   "source": []
  },
  {
   "cell_type": "code",
   "execution_count": null,
   "metadata": {
    "collapsed": true
   },
   "outputs": [],
   "source": []
  },
  {
   "cell_type": "markdown",
   "metadata": {},
   "source": [
    "Для построения непосредственно поисковика я реализовал два типа: `<TextUnit>` и `<Corpus>`.<br>\n",
    "Тип `<TextUnit>`: моделирует фрагмент документа / документ, инкапсулируя ряд его атрибутов как альтернатива предложенному на занятии методу с использованием json.<br>\n",
    "Тип `<Corpus>`: реализует корпус документов с возможностью поиска.<br>\n",
    "Интерфейс:<br>\n",
    "- `Corpus.build(documents)`: собрать корпус из документов в `documents`\n",
    "- `Corpus.search(query, top_n, algo, split_by)`: произвести поиск по запросу `query`\n",
    "    - `query: <str>`: запрос\n",
    "    - `top_n: <int>`: размер выдачи\n",
    "    - `algo: <str>`: алгоритм поиска\n",
    "    - `split_by: <str>`: метод разбиения входящего запроса "
   ]
  },
  {
   "cell_type": "code",
   "execution_count": 43,
   "metadata": {
    "collapsed": true
   },
   "outputs": [],
   "source": [
    "class TextUnit:\n",
    "    \n",
    "    def __init__(self, _id, doc_id, chunk_id=-1, text=''):\n",
    "        self._id = _id\n",
    "        self.doc_id = doc_id\n",
    "        self.chunk_id = chunk_id\n",
    "        self.text = text\n",
    "        self.len = len(self.text.split())\n",
    "        \n",
    "        self.w2v = None\n",
    "        self.d2v = None\n",
    "        \n",
    "    def __str__(self):\n",
    "        return 'TextUnit(id=%s, doc_id=%s, chunk_id=%s)' % (self._id,\n",
    "                                                           self.doc_id,\n",
    "                                                           self.chunk_id\n",
    "                                                          )\n",
    "    \n",
    "    __repr__ = __str__\n",
    "    \n",
    "    @staticmethod\n",
    "    def from_text(text):\n",
    "        return TextUnit(-1, -1, -1, text=text)\n",
    "    \n",
    "    def set_w2v(self, model):\n",
    "        vectors = list()\n",
    "        \n",
    "        for word in self.text.split():\n",
    "            if word in model.wv:\n",
    "                vectors.append(model.wv[word])\n",
    "        \n",
    "        if vectors:\n",
    "            self.w2v = np.mean(np.array(vectors), axis=0)\n",
    "        else:\n",
    "            self.w2v = np.random.normal(scale=0.01, size=[model.vector_size,])\n",
    "        \n",
    "        del vectors\n",
    "        \n",
    "    def set_d2v(self, model):\n",
    "        self.d2v = model.infer_vector(self.text.split())\n",
    "        \n",
    "        \n",
    "class Corpus:\n",
    "    \"\"\"\n",
    "    normalize: bool: apply text normalization\n",
    "    to_lower: bool: apply text lowering\n",
    "    split_by: [None, 'sentences', 'words']: chunkize text by sentences, words if not None\n",
    "    n_chunks: int: number of units per each chunk:\n",
    "                    e.g. setting `split_by` = `sentences` and `n_chunks` = `5`\n",
    "                         would chunkize each document into fragments of 5 sentences\n",
    "    w2v_model: Model: model to infer w2v vectors\n",
    "    d2v_model: Model: model to infer d2v vectors\n",
    "    \"\"\"\n",
    "    \n",
    "    def __init__(self, normalize=True,\n",
    "                 to_lower=True,\n",
    "                 split_by=None,\n",
    "                 n_chunks=5,\n",
    "                 w2v_model=None,\n",
    "                 d2v_model=None):\n",
    "        \n",
    "        self.normalize = normalize\n",
    "        self.to_lower = to_lower\n",
    "        self.split_by = split_by\n",
    "        self.n_chunks = n_chunks\n",
    "        self.w2v_model = w2v_model\n",
    "        self.d2v_model = d2v_model\n",
    "        \n",
    "        self.__SPLITTERS_MAP = {'sentences': self.__split_sentences,\n",
    "                                'words': self.__split_words}\n",
    "        \n",
    "        self.__ALGOS_SIM_MAP = {'bm25': self.__sim_bm25,\n",
    "                                'w2v': self.__sim_cosine,\n",
    "                                'd2v': self.__sim_cosine,\n",
    "                                'blend': self.__sim_blend}\n",
    "        \n",
    "        self.__ALGOS_CHECK_MAP = {'bm25': self.__check_bm25,\n",
    "                                  'w2v': self.__check_w2v,\n",
    "                                  'd2v': self.__check_d2v,\n",
    "                                  'blend': self.__check_blend}\n",
    "        \n",
    "    def __normalizer(self, text):\n",
    "        text = text.lower() if self.to_lower else text\n",
    "        \n",
    "        if not self.normalize:\n",
    "            return text\n",
    "        \n",
    "        text_norm = list()\n",
    "        \n",
    "        for word in text.split():\n",
    "            word_norm = re.sub('[\\W]|[\\d]|_|u', '', word)\n",
    "            \n",
    "            if word_norm:\n",
    "                text_norm.append(word_norm)\n",
    "        \n",
    "        return ' '.join(text_norm)\n",
    "    \n",
    "    def __split_sentences(self, text):\n",
    "        sents = sent_tokenize(text)\n",
    "        \n",
    "        i = 0\n",
    "        j = self.n_chunks\n",
    "\n",
    "        while i < len(sents):\n",
    "            chunk = ' '.join(sents[i:j])\n",
    "            chunk = self.__normalizer(chunk)\n",
    "            \n",
    "            if chunk:\n",
    "                yield chunk\n",
    "            \n",
    "            i += self.n_chunks\n",
    "            j += self.n_chunks\n",
    "\n",
    "\n",
    "    def __split_words(self, text):\n",
    "        i = 0\n",
    "        j = self.n_chunks\n",
    "        \n",
    "        text = self.__normalizer(text)\n",
    "        _split = text.split()\n",
    "\n",
    "        while i < len(_split):\n",
    "            chunk = _split[i:j]\n",
    "            chunk.extend(['NULL' for _ in range(self.n_chunks - len(chunk))])\n",
    "            chunk = ' '.join(chunk)\n",
    "            \n",
    "            if chunk:\n",
    "                yield chunk\n",
    "\n",
    "            i += self.n_chunks\n",
    "            j += self.n_chunks\n",
    "    \n",
    "    def build(self, documents):\n",
    "        self.D = list()\n",
    "        self.DOCS = list()\n",
    "        self._ID = 0\n",
    "        \n",
    "        for doc_id, doc_text in enumerate(documents):\n",
    "            self.DOCS.append(doc_text)\n",
    "            \n",
    "            if self.split_by is not None:\n",
    "                splitter = self.__SPLITTERS_MAP[self.split_by]\n",
    "                \n",
    "                for chunk_id, chunk_text in enumerate(splitter(doc_text)):\n",
    "                    text_unit = TextUnit(_id=self._ID,\n",
    "                                         doc_id=doc_id,\n",
    "                                         chunk_id='%s_%s' % (doc_id, chunk_id),\n",
    "                                         text=chunk_text\n",
    "                                        )\n",
    "                    self.__set_vectors(text_unit)\n",
    "                    \n",
    "                    self.D.append(text_unit)\n",
    "                    self._ID += 1\n",
    "                    \n",
    "            else:\n",
    "                text = self.__normalizer(doc_text)\n",
    "                text_unit = TextUnit(_id=self._ID,\n",
    "                                     doc_id=doc_id,\n",
    "                                     chunk_id=-1,\n",
    "                                     text=text\n",
    "                                    )\n",
    "                self.__set_vectors(text_unit)\n",
    "            \n",
    "                self.D.append(text_unit)\n",
    "                self._ID += 1\n",
    "                        \n",
    "    def __build_inverted_index(self):\n",
    "        self.__INV_IDX = defaultdict(dict)\n",
    "\n",
    "        for i, unit in enumerate(self.D):\n",
    "            for word in unit.text.split():\n",
    "                if self.__INV_IDX[word].get(i) is None:\n",
    "                    self.__INV_IDX[word][i] = 1\n",
    "\n",
    "                else:\n",
    "                    self.__INV_IDX[word][i] += 1\n",
    "                    \n",
    "    def __set_vectors(self, unit):\n",
    "        if self.w2v_model is not None:\n",
    "            unit.set_w2v(self.w2v_model)\n",
    "            \n",
    "        if self.d2v_model is not None:\n",
    "            unit.set_d2v(self.d2v_model)\n",
    "            \n",
    "    def __check_bm25(self):\n",
    "        if '__INV_IDX' not in self.__dict__:\n",
    "            self.__build_inverted_index()\n",
    "            \n",
    "        if '__bm25_ready' not in self.__dict__:\n",
    "            self.__prepare_bm25()\n",
    "            \n",
    "    def __check_w2v(self):\n",
    "        if self.w2v_model is None:\n",
    "            raise Exception('w2v model not found')\n",
    "            \n",
    "    def __check_d2v(self):\n",
    "        if self.d2v_model is None:\n",
    "            raise Exception('d2v model not found')\n",
    "            \n",
    "    def __check_blend(self):\n",
    "        self.__check_bm25()\n",
    "        self.__check_w2v()\n",
    "        \n",
    "    def __prepare_bm25(self):\n",
    "        self.__k1 = 2.0\n",
    "        self.__b = 0.75\n",
    "        self.__N = len(self.D)\n",
    "        self.__avgdl = np.mean([unit.len for unit in self.D])\n",
    "        self.__bm25_ready = True\n",
    "        \n",
    "    def __compute_bm25(self, qf, dl, n):\n",
    "        first = (self.__N - n + 0.5) / (n + 0.5)\n",
    "        second = (self.__k1 + 1) * qf\n",
    "        third = qf + self.__k1 * (1 - self.__b + self.__b * (dl / self.__avgdl))\n",
    "        return np.log(first) * (second / third)\n",
    "    \n",
    "    def __sim_bm25(self, query_unit, unit, model):\n",
    "        score = 0\n",
    "        dl = unit.len\n",
    "\n",
    "        for word in query_unit.text.split():\n",
    "            if word in self.__INV_IDX:\n",
    "                qf = self.__INV_IDX[word][unit._id] if self.__INV_IDX[word].get(unit._id) is not None else 0\n",
    "                n = len(self.__INV_IDX[word])\n",
    "                score += self.__compute_bm25(qf, dl, n)\n",
    "\n",
    "        return score\n",
    "            \n",
    "    def __sim_cosine(self, query_unit, unit, model):\n",
    "        _dot = np.dot(query_unit.__dict__[model], unit.__dict__[model])\n",
    "        lnorm = np.sqrt(np.sum(query_unit.__dict__[model]**2))\n",
    "        rnorm = np.sqrt(np.sum(unit.__dict__[model]**2))\n",
    "        return _dot / (lnorm * rnorm)\n",
    "    \n",
    "    def __sigmoid(self, x):\n",
    "        return 1 / (1 + np.exp(-x))\n",
    "    \n",
    "    def __sim_blend(self, query_unit, unit, model):\n",
    "        return (0.5 * self.__sigmoid(self.__sim_bm25(query_unit, unit, model)) + \\\n",
    "                0.5 * self.__sim_cosine(query_unit, unit, 'w2v')) / 2\n",
    "    \n",
    "    def __search(self, query_unit, algo):\n",
    "        self.__ALGOS_CHECK_MAP[algo]()\n",
    "        \n",
    "        similarity = self.__ALGOS_SIM_MAP[algo]\n",
    "        \n",
    "        scores = list()\n",
    "\n",
    "        for i, unit in enumerate(self.D):\n",
    "            scores.append((i, similarity(query_unit, unit, algo)))\n",
    "        \n",
    "        return scores\n",
    "        \n",
    "    def __sort_output_old(self, scores, top_n):\n",
    "        output = dict()\n",
    "        _sorted = [(self.D[_id].doc_id, {'score': score, 'text': self.DOCS[self.D[_id].doc_id]}) \\\n",
    "                   for _id, score in sorted(scores, key=lambda x: x[1], reverse=True)\n",
    "                  ]\n",
    "        \n",
    "        for _id, score in _sorted:\n",
    "            if len(output) >= top_n:\n",
    "                return output\n",
    "            \n",
    "            if _id not in output:\n",
    "                output[_id] = score\n",
    "        \n",
    "        return output\n",
    "    \n",
    "    def __sort_output(self, scores, top_n):\n",
    "        _sorted = [(self.D[_id].doc_id, {'score': score, 'text': self.DOCS[self.D[_id].doc_id]}) \\\n",
    "                   for _id, score in sorted(scores, key=lambda x: x[1], reverse=True)\n",
    "                  ][:top_n]\n",
    "        return {k: v for k, v in _sorted}\n",
    "    \n",
    "    def __prepare_query_unit(self, query):\n",
    "        query = self.__normalizer(query)\n",
    "        query_unit = TextUnit.from_text(query)\n",
    "        self.__set_vectors(query_unit)\n",
    "        return query_unit\n",
    "        \n",
    "    def search(self, query, top_n=5, algo='w2v', split_by=None):\n",
    "        \"\"\"\n",
    "        query: str: query\n",
    "        top_n: int: return `top_n` best results\n",
    "        algo: str: ['bm25', 'w2v', 'd2v', 'blend']: algorithm used (blend=bm25+w2v)\n",
    "        split_by: str: [None, 'sentences', 'words']: `query` splitting method\n",
    "        \"\"\"\n",
    "        \n",
    "        if split_by is None:\n",
    "            query_unit = self.__prepare_query_unit(query)\n",
    "            return self.__sort_output(self.__search(query_unit, algo), top_n)\n",
    "        \n",
    "        else:\n",
    "            query_units = list()\n",
    "            scores = dict()\n",
    "            \n",
    "            splitter = self.__SPLITTERS_MAP[split_by]\n",
    "                \n",
    "            for chunk_id, chunk_text in enumerate(splitter(query)):\n",
    "                text_unit = TextUnit(_id=None,\n",
    "                                     doc_id=None,\n",
    "                                     chunk_id=None,\n",
    "                                     text=chunk_text\n",
    "                                    )\n",
    "                self.__set_vectors(text_unit)\n",
    "\n",
    "                query_units.append(text_unit)\n",
    "            \n",
    "            for query_unit in query_units:\n",
    "                scores.update(self.__sort_output(self.__search(query_unit, algo), top_n))\n",
    "            \n",
    "            scores = {k: scores[k] for k in sorted(scores, key=lambda x: scores.get(x)['score'], reverse=True)[:top_n]}\n",
    "            \n",
    "            return scores\n",
    "    \n",
    "    def score(self, X, algos, top_n=5, split_by=None):\n",
    "        \"\"\"\n",
    "        X: list: ids of queries \n",
    "        Y: list: ids of true responses\n",
    "        \"\"\"\n",
    "        \n",
    "        res = defaultdict(list)\n",
    "\n",
    "        for algo in algos:\n",
    "            for i, x in enumerate(X):\n",
    "                if i in self.search(x, top_n=top_n+1, algo=algo, split_by=split_by):\n",
    "                    res[algo].append(1)\n",
    "\n",
    "                else:\n",
    "                    res[algo].append(0)\n",
    "\n",
    "            res[algo] = np.mean(res[algo])\n",
    "\n",
    "        return res"
   ]
  },
  {
   "cell_type": "code",
   "execution_count": 10,
   "metadata": {
    "collapsed": true
   },
   "outputs": [],
   "source": [
    "w2v_model = Word2Vec.load('w2v_model/araneum_none_fasttextskipgram_300_5_2018.model')\n",
    "d2v_model = Doc2Vec.load('d2v_model/d2v_model.model') "
   ]
  },
  {
   "cell_type": "markdown",
   "metadata": {},
   "source": [
    "Инициализируем корпус без разбиения документов на фрагменты / параграфы<br>"
   ]
  },
  {
   "cell_type": "code",
   "execution_count": 16,
   "metadata": {
    "collapsed": true
   },
   "outputs": [],
   "source": [
    "corpus = Corpus(w2v_model=w2v_model, d2v_model=d2v_model)"
   ]
  },
  {
   "cell_type": "code",
   "execution_count": 17,
   "metadata": {},
   "outputs": [
    {
     "name": "stdout",
     "output_type": "stream",
     "text": [
      "Wall time: 1.91 s\n"
     ]
    }
   ],
   "source": [
    "%%time\n",
    "corpus.build(RESPONSES_LEM)"
   ]
  },
  {
   "cell_type": "markdown",
   "metadata": {},
   "source": [
    "Пример работы поиска<br>\n",
    "*Ясно, что, вообще говоря, необходимо было ввести функционал лемматизации входящего в `.search()` запроса, однако я не делал этого, потому как вся коллекция уже и так лемматизирована и для необходимого тестирования качества этого достаточно*"
   ]
  },
  {
   "cell_type": "code",
   "execution_count": 58,
   "metadata": {},
   "outputs": [
    {
     "name": "stdout",
     "output_type": "stream",
     "text": [
      "doc_id: 1364\n",
      "text: Для граждан России режим въезда на Украину — безвизовый, только по загранпаспортам (въезд по общегражданским (внутренним) паспортам был закрыт с 1 марта 2015 г. решением украинского правительства). При въезде на Украину с 1 января 2018 года необходимо сдавать отпечатки пальцев (биометрию). Россиянам и другим безвизовым гражданам без регистрации по месту временного пребывания можно находится на территории Украины до 90 дней\n",
      "\n",
      "doc_id: 0\n",
      "text: Добрый вечер!Из Вашего вопроса вообще ничего не ясно.Ваш сын по ВНЖ в Нижегородской обл. сделал временную  на 90 дней в Ростове? Так? Или в чем заключается вопрос?С ув., АлёнаМиграционный юристРостов-на-Дону \n",
      "\n",
      "doc_id: 874\n",
      "text: К сожалению нет, долг все равно останется, т.к. он накоплен за тот период когда вы были там прописаны. И при смене прописки УК вправе вам предъявить иск по новому месту жительства. \n",
      "\n",
      "doc_id: 1383\n",
      "text: Добрый вечер. Да, должны. НДС — до 25 января 2018 г., Налог на прибыль до 28 марта 2018 г.\n",
      "\n",
      "doc_id: 1088\n",
      "text: Здравствуйте.но мне хотелось бы узнать прав я или нет был, может я не так поставил машину что помешал ему выехать, но я отсчитал до его машины было 4-4.5метров что дает большое место для выезда, поэтому хотелось понять кто прав все таки и должны ли мне сразу сотрудники гибдд сообщить что я виновник ???эдуардПравы Вы, как стоял Ваш автомобиль не важно. Так как водитель скрылся будет проводиться административное расследование по ст 12.27 КОАП, \n",
      "\n",
      "Wall time: 575 ms\n"
     ]
    }
   ],
   "source": [
    "%%time\n",
    "for _id in corpus.search(QUERIES_LEM[0], algo='bm25'):\n",
    "    print('doc_id: %s\\ntext: %s\\n' % (_id, RESPONSES[_id]))"
   ]
  },
  {
   "cell_type": "markdown",
   "metadata": {},
   "source": [
    "Эксперимент на всей коллекции"
   ]
  },
  {
   "cell_type": "code",
   "execution_count": 22,
   "metadata": {},
   "outputs": [
    {
     "name": "stdout",
     "output_type": "stream",
     "text": [
      "Wall time: 6min 47s\n"
     ]
    }
   ],
   "source": [
    "%%time\n",
    "SCORES = corpus.score(X=QUERIES_LEM,\n",
    "                      algos=['w2v', 'bm25', 'd2v']\n",
    "                     )"
   ]
  },
  {
   "cell_type": "code",
   "execution_count": 23,
   "metadata": {},
   "outputs": [
    {
     "data": {
      "text/plain": [
       "defaultdict(list,\n",
       "            {'bm25': 0.509393063583815,\n",
       "             'd2v': 0.06430635838150289,\n",
       "             'w2v': 0.3619942196531792})"
      ]
     },
     "execution_count": 23,
     "metadata": {},
     "output_type": "execute_result"
    }
   ],
   "source": [
    "SCORES"
   ]
  },
  {
   "cell_type": "markdown",
   "metadata": {},
   "source": [
    "Теперь повторим эксперимент, разбивая документы на фрагменты а именно, параграфы по одному предложению (кол-во чанков выбрано экспериментально)<br>\n",
    "*Я не тестировал таким образом BM25, т.к. для этой функции разбиение имеет малый смысл, а общее время исполнения много больше в сравнении с векторными методами*"
   ]
  },
  {
   "cell_type": "code",
   "execution_count": 48,
   "metadata": {
    "collapsed": true
   },
   "outputs": [],
   "source": [
    "corpus2 = Corpus(split_by='sentences', n_chunks=3, w2v_model=w2v_model, d2v_model=d2v_model)"
   ]
  },
  {
   "cell_type": "code",
   "execution_count": 49,
   "metadata": {},
   "outputs": [
    {
     "name": "stdout",
     "output_type": "stream",
     "text": [
      "Wall time: 2.67 s\n"
     ]
    }
   ],
   "source": [
    "%%time\n",
    "corpus2.build(RESPONSES_LEM)"
   ]
  },
  {
   "cell_type": "code",
   "execution_count": 50,
   "metadata": {},
   "outputs": [
    {
     "name": "stdout",
     "output_type": "stream",
     "text": [
      "Wall time: 3min 37s\n"
     ]
    }
   ],
   "source": [
    "%%time\n",
    "SCORES_CHUNKED = corpus2.score(X=QUERIES_LEM,\n",
    "                               algos=['w2v', 'd2v'],\n",
    "                               split_by='sentences'\n",
    "                               )"
   ]
  },
  {
   "cell_type": "code",
   "execution_count": 52,
   "metadata": {},
   "outputs": [
    {
     "data": {
      "text/plain": [
       "defaultdict(list,\n",
       "            {'bm25': 0,\n",
       "             'd2v': 0.024566473988439308,\n",
       "             'w2v': 0.36488439306358383})"
      ]
     },
     "execution_count": 52,
     "metadata": {},
     "output_type": "execute_result"
    }
   ],
   "source": [
    "SCORES_CHUNKED['bm25'] = 0\n",
    "SCORES_CHUNKED"
   ]
  },
  {
   "cell_type": "markdown",
   "metadata": {},
   "source": [
    "Результаты двух экспериментов на графике"
   ]
  },
  {
   "cell_type": "code",
   "execution_count": 53,
   "metadata": {
    "collapsed": true
   },
   "outputs": [],
   "source": [
    "import matplotlib.pyplot as plt\n",
    "%matplotlib inline"
   ]
  },
  {
   "cell_type": "code",
   "execution_count": 61,
   "metadata": {
    "collapsed": true
   },
   "outputs": [],
   "source": [
    "def plot_scores(scores, titles):\n",
    "    KEYS = ['w2v', 'bm25', 'd2v']\n",
    "    \n",
    "    for score, title in zip(scores, titles):\n",
    "        plt.plot(range(len(KEYS)), [score[k] for k in KEYS], alpha=0.7, label=title)\n",
    "    \n",
    "    plt.xticks(range(len(KEYS)), KEYS)\n",
    "    plt.xlabel('Algo')\n",
    "    plt.ylabel('Accuracy')\n",
    "    plt.legend()"
   ]
  },
  {
   "cell_type": "code",
   "execution_count": 62,
   "metadata": {},
   "outputs": [
    {
     "data": {
      "image/png": "[encoded data removed]",
      "text/plain": [
       "<matplotlib.figure.Figure at 0x231239f50b8>"
      ]
     },
     "metadata": {},
     "output_type": "display_data"
    }
   ],
   "source": [
    "plot_scores([SCORES, SCORES_CHUNKED], ['Full text', 'Chunked'])"
   ]
  },
  {
   "cell_type": "markdown",
   "metadata": {
    "collapsed": true
   },
   "source": [
    "Как видно, поиск по разбитым и не разбитым документам показал идентичный уровень качества (BM25 при разбиении не тестировался)<br>\n",
    "Касательно алгоритмов, наивысшего результата (~0.5) удалось добиться с помощью BM25<br>\n",
    "Векторные модели показали результат несколько хуже, а `doc2vec` (1000 эпох на лемматизированной коллекции) оказался чрезвычайно плох<br>\n",
    "В целом решаемая задача кажется трудной, ввиду часто большого размера входящих запросов и неочевидного соответствия между содержанием вопросов и ответов  "
   ]
  },
  {
   "cell_type": "code",
   "execution_count": null,
   "metadata": {
    "collapsed": true
   },
   "outputs": [],
   "source": []
  },
  {
   "cell_type": "code",
   "execution_count": null,
   "metadata": {
    "collapsed": true
   },
   "outputs": [],
   "source": []
  }
 ],
 "metadata": {
  "kernelspec": {
   "display_name": "Python 3",
   "language": "python",
   "name": "python3"
  },
  "language_info": {
   "codemirror_mode": {
    "name": "ipython",
    "version": 3
   },
   "file_extension": ".py",
   "mimetype": "text/x-python",
   "name": "python",
   "nbconvert_exporter": "python",
   "pygments_lexer": "ipython3",
   "version": "3.6.1"
  }
 },
 "nbformat": 4,
 "nbformat_minor": 2
}
